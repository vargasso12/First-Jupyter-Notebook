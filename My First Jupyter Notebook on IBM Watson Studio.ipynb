{
    "cells": [
        {
            "cell_type": "markdown",
            "metadata": {
                "collapsed": true
            },
            "source": "# My First Jupyter Notebook On IBM Watson Studio"
        },
        {
            "cell_type": "markdown",
            "metadata": {},
            "source": "### Ariel E. Vargas"
        },
        {
            "cell_type": "markdown",
            "metadata": {},
            "source": "#### 100% Human"
        },
        {
            "cell_type": "markdown",
            "metadata": {},
            "source": "*Gaining insights from data can give u a great power of decision, that's why Data Science rocks :)*"
        },
        {
            "cell_type": "markdown",
            "metadata": {},
            "source": "## The Following code test the Gauss formula"
        },
        {
            "cell_type": "code",
            "execution_count": 1,
            "metadata": {},
            "outputs": [
                {
                    "data": {
                        "text/plain": "True"
                    },
                    "execution_count": 1,
                    "metadata": {},
                    "output_type": "execute_result"
                }
            ],
            "source": "def gauss(n):\n    return (n*(n+1))/2\ngauss(100) == sum(range(101))"
        },
        {
            "cell_type": "markdown",
            "metadata": {},
            "source": "---"
        },
        {
            "cell_type": "markdown",
            "metadata": {},
            "source": "* one\n* two\n* three\n* one\n* two\n* three"
        },
        {
            "cell_type": "markdown",
            "metadata": {},
            "source": "Markdown|Less |Pretty\n---|---|---\n*Still* |renders|**nicely**\n1|2|3"
        },
        {
            "cell_type": "markdown",
            "metadata": {},
            "source": "[IBM](https://www.ibm.com/cr-es)"
        },
        {
            "cell_type": "markdown",
            "metadata": {},
            "source": "**greetings from Costa Rica!*"
        }
    ],
    "metadata": {
        "kernelspec": {
            "display_name": "Python 3.7",
            "language": "python",
            "name": "python3"
        },
        "language_info": {
            "codemirror_mode": {
                "name": "ipython",
                "version": 3
            },
            "file_extension": ".py",
            "mimetype": "text/x-python",
            "name": "python",
            "nbconvert_exporter": "python",
            "pygments_lexer": "ipython3",
            "version": "3.7.10"
        }
    },
    "nbformat": 4,
    "nbformat_minor": 1
}